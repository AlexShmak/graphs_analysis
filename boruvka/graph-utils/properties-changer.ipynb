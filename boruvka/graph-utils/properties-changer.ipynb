{
 "cells": [
  {
   "cell_type": "code",
   "execution_count": 2,
   "id": "f606a0c5",
   "metadata": {},
   "outputs": [],
   "source": [
    "import networkx as nx\n",
    "import matplotlib.pyplot as plt\n",
    "import tqdm\n",
    "import numpy as np\n",
    "import random\n",
    "import igraph as ig\n",
    "import os\n",
    "\n",
    "\n",
    "\n",
    "def read_dimacs_graph(filename):\n",
    "    edges = []\n",
    "    weights = []\n",
    "    max_node = 0\n",
    "    \n",
    "    with open(filename, \"r\") as f:\n",
    "        for line in f:\n",
    "            if line.startswith(\"a\"):\n",
    "                _, u, v, w = line.strip().split()\n",
    "                u, v, w = int(u), int(v), int(w)\n",
    "                edges.append((u - 1, v - 1))\n",
    "                weights.append(w)\n",
    "                max_node = max(max_node, u, v)\n",
    "\n",
    "\n",
    "    G = ig.Graph()\n",
    "    G.add_vertices(max_node)\n",
    "    G.add_edges(edges)\n",
    "    G.es[\"weight\"] = weights\n",
    "    return G\n",
    "\n",
    "\n",
    "def save_dimacs_graph(G: ig.Graph, filename, comment: str = \"\"):\n",
    "    with open(filename, \"w\") as f:\n",
    "        if not comment.isspace():\n",
    "            f.write(f\"c {comment}\\n\")\n",
    "        f.write(f\"p sp {G.vcount()} {G.ecount()}\\n\")\n",
    "        for e in G.es:\n",
    "            u, v = G.es[e.index].tuple\n",
    "            w = e[\"weight\"] if \"weight\" in e.attributes() else 1\n",
    "            f.write(f\"a {u + 1} {v + 1} {w}\\n\")"
   ]
  },
  {
   "cell_type": "code",
   "execution_count": 4,
   "id": "5b2a1348",
   "metadata": {},
   "outputs": [],
   "source": [
    "def remove_edges(G: ig.Graph, remove_percent=0.1):\n",
    "    assert 0 < remove_percent < 1\n",
    "\n",
    "    remove_edges_count = int(G.ecount() * remove_percent)\n",
    "    # print(f\"Will be removed: {remove_edges_count} edges.\")\n",
    "\n",
    "    h_edges = list(G.es)\n",
    "\n",
    "    bridge_ids = set(G.bridges())\n",
    "    sorted_edges = [\n",
    "    (e.source, e.target, e[\"weight\"] if \"weight\" in e.attributes() else 1)\n",
    "    for e in h_edges\n",
    "    if e.index not in bridge_ids\n",
    "    ]\n",
    "    sorted_edges = sorted(sorted_edges, key=lambda x: x[2])\n",
    "\n",
    "    result_graph: ig.Graph = G.copy()\n",
    "\n",
    "    degrees = {v.index: deg for v, deg in zip(result_graph.vs, result_graph.degree())}\n",
    "    edges_to_remove = set()\n",
    "\n",
    "    while len(edges_to_remove) < remove_edges_count and sorted_edges:\n",
    "        u, v, _ = sorted_edges.pop()\n",
    "\n",
    "        if degrees[u] <= 1 or degrees[v] <= 1:\n",
    "            continue\n",
    "\n",
    "        degrees[u] -= 1\n",
    "        degrees[v] -= 1\n",
    "\n",
    "        edges_to_remove.add((u, v))\n",
    "\n",
    "    result_graph.delete_edges(edges_to_remove)\n",
    "\n",
    "    # print(f\"Was: {G.ecount()}, Now: {result_graph.ecount()} (edges). It is {(G.ecount() - result_graph.ecount()) / G.ecount() * 100:.2f}% of the original number.\")\n",
    "    return result_graph"
   ]
  },
  {
   "cell_type": "markdown",
   "id": "355e8241",
   "metadata": {},
   "source": [
    "# Experiment 1 (Density)"
   ]
  },
  {
   "cell_type": "code",
   "execution_count": 12,
   "id": "300cf5b5",
   "metadata": {},
   "outputs": [
    {
     "name": "stderr",
     "output_type": "stream",
     "text": [
      "100%|██████████| 8/8 [10:09<00:00, 76.14s/it] \n"
     ]
    }
   ],
   "source": [
    "def calc_density(G: ig.Graph):\n",
    "    return (2 * G.ecount()) / (G.vcount() * (G.vcount() - 1))\n",
    "\n",
    "\n",
    "# Experiment 1\n",
    "exp_dataset = {\n",
    "    \"San Francisco Bay Area\": \"USA-road-d.BAY.gr\",\n",
    "    \"California and Nevada\": \"USA-road-d.CAL.gr\",\n",
    "    \"Colorado\": \"USA-road-d.COL.gr\",\n",
    "    \"Florida\": \"USA-road-d.FLA.gr\",\n",
    "    \"Great Lakes\": \"USA-road-d.LKS.gr\",\n",
    "    \"Northeast USA\": \"USA-road-d.NE.gr\",\n",
    "    \"Northwest USA\": \"USA-road-d.NW.gr\",\n",
    "    \"New York City\": \"USA-road-d.NY.gr\",\n",
    "}\n",
    "\n",
    "PERCENTS = [0.01, 0.03, 0.05, 0.07, 0.1, 0.13, 0.15]\n",
    "\n",
    "for name, filename in tqdm.tqdm(exp_dataset.items()):\n",
    "    G = read_dimacs_graph(filename)\n",
    "\n",
    "    for percent in PERCENTS:\n",
    "        G2 = remove_edges(G, percent)\n",
    "\n",
    "        assert len(list(G2.connected_components(mode=\"strong\"))) == 1\n",
    "\n",
    "        new_name = (\n",
    "            os.path.splitext(os.path.basename(filename))[0]\n",
    "            + f\".perc_{int(percent * 100)}.gr\"\n",
    "        )\n",
    "\n",
    "        save_dimacs_graph(\n",
    "            G2,\n",
    "            f\"dataset/{new_name}\",\n",
    "            comment=f\"Name: {name}, Filename: {filename} Density: {calc_density(G2)}, Start density: {calc_density(G)}\",\n",
    "        )\n"
   ]
  },
  {
   "cell_type": "markdown",
   "id": "d5b1f534",
   "metadata": {},
   "source": [
    "# Experiment 2 (Weights)"
   ]
  },
  {
   "cell_type": "code",
   "execution_count": 9,
   "id": "9ef8059f",
   "metadata": {},
   "outputs": [
    {
     "name": "stderr",
     "output_type": "stream",
     "text": [
      "100%|██████████| 8/8 [01:21<00:00, 10.18s/it]\n"
     ]
    }
   ],
   "source": [
    "# Randomize weights\n",
    "for name, filename in tqdm.tqdm(exp_dataset.items()):\n",
    "    G = read_dimacs_graph(filename)\n",
    "    G.es['weight'] = [random.randint(1, 100) for _ in G.es]\n",
    "\n",
    "    new_name = (\n",
    "        os.path.splitext(os.path.basename(filename))[0]\n",
    "        + f\".random.gr\"\n",
    "    )\n",
    "\n",
    "    save_dimacs_graph(\n",
    "        G,\n",
    "        f\"dataset/{new_name}\"\n",
    "    )"
   ]
  },
  {
   "cell_type": "code",
   "execution_count": 10,
   "id": "5df6f360",
   "metadata": {},
   "outputs": [
    {
     "name": "stderr",
     "output_type": "stream",
     "text": [
      "100%|██████████| 8/8 [01:26<00:00, 10.81s/it]\n"
     ]
    }
   ],
   "source": [
    "# Shuffle weights\n",
    "for name, filename in tqdm.tqdm(exp_dataset.items()):\n",
    "    G = read_dimacs_graph(filename)\n",
    "    weights = G.es['weight'][:]\n",
    "    random.shuffle(weights)\n",
    "\n",
    "    G.es['weight'] = weights\n",
    "\n",
    "    new_name = (\n",
    "        os.path.splitext(os.path.basename(filename))[0]\n",
    "        + f\".shuffle.gr\"\n",
    "    )\n",
    "\n",
    "    save_dimacs_graph(\n",
    "        G,\n",
    "        f\"dataset/{new_name}\"\n",
    "    )"
   ]
  }
 ],
 "metadata": {
  "kernelspec": {
   "display_name": ".venv",
   "language": "python",
   "name": "python3"
  },
  "language_info": {
   "codemirror_mode": {
    "name": "ipython",
    "version": 3
   },
   "file_extension": ".py",
   "mimetype": "text/x-python",
   "name": "python",
   "nbconvert_exporter": "python",
   "pygments_lexer": "ipython3",
   "version": "3.12.3"
  }
 },
 "nbformat": 4,
 "nbformat_minor": 5
}
