{
 "cells": [
  {
   "cell_type": "code",
   "execution_count": 1,
   "id": "f606a0c5",
   "metadata": {},
   "outputs": [],
   "source": [
    "import networkx as nx\n",
    "import matplotlib.pyplot as plt\n",
    "import tqdm\n",
    "import numpy as np\n",
    "import random\n",
    "import igraph as ig\n",
    "import os\n",
    "\n",
    "\n",
    "\n",
    "def read_dimacs_graph(filename):\n",
    "    edges = []\n",
    "    weights = []\n",
    "    max_node = 0\n",
    "    \n",
    "    with open(filename, \"r\") as f:\n",
    "        for line in f:\n",
    "            if line.startswith(\"a\"):\n",
    "                _, u, v, w = line.strip().split()\n",
    "                u, v, w = int(u), int(v), int(w)\n",
    "                edges.append((u - 1, v - 1))\n",
    "                weights.append(w)\n",
    "                max_node = max(max_node, u, v)\n",
    "\n",
    "\n",
    "    G = ig.Graph()\n",
    "    G.add_vertices(max_node)\n",
    "    G.add_edges(edges)\n",
    "    G.es[\"weight\"] = weights\n",
    "    return G\n",
    "\n",
    "\n",
    "def save_dimacs_graph(G: ig.Graph, filename, comment: str = \"\"):\n",
    "    with open(filename, \"w\") as f:\n",
    "        if not comment.isspace():\n",
    "            f.write(f\"c {comment}\\n\")\n",
    "        f.write(f\"p sp {G.vcount()} {G.ecount()}\\n\")\n",
    "        for e in G.es:\n",
    "            u, v = G.es[e.index].tuple\n",
    "            w = e[\"weight\"] if \"weight\" in e.attributes() else 1\n",
    "            f.write(f\"a {u + 1} {v + 1} {w}\\n\")"
   ]
  },
  {
   "cell_type": "code",
   "execution_count": 2,
   "id": "5b2a1348",
   "metadata": {},
   "outputs": [],
   "source": [
    "def remove_edges(G: ig.Graph, remove_percent=0.1):\n",
    "    assert 0 < remove_percent < 1\n",
    "\n",
    "    remove_edges_count = int(G.ecount() * remove_percent)\n",
    "    # print(f\"Will be removed: {remove_edges_count} edges.\")\n",
    "\n",
    "    h_edges = list(G.es)\n",
    "\n",
    "    bridge_ids = set(G.bridges())\n",
    "    sorted_edges = [\n",
    "    (e.source, e.target, e[\"weight\"] if \"weight\" in e.attributes() else 1)\n",
    "    for e in h_edges\n",
    "    if e.index not in bridge_ids\n",
    "    ]\n",
    "    sorted_edges = sorted(sorted_edges, key=lambda x: x[2])\n",
    "\n",
    "    result_graph: ig.Graph = G.copy()\n",
    "\n",
    "    degrees = {v.index: deg for v, deg in zip(result_graph.vs, result_graph.degree())}\n",
    "    edges_to_remove = set()\n",
    "\n",
    "    while len(edges_to_remove) < remove_edges_count and sorted_edges:\n",
    "        u, v, _ = sorted_edges.pop()\n",
    "\n",
    "        if degrees[u] <= 1 or degrees[v] <= 1:\n",
    "            continue\n",
    "\n",
    "        degrees[u] -= 1\n",
    "        degrees[v] -= 1\n",
    "\n",
    "        edges_to_remove.add((u, v))\n",
    "\n",
    "    result_graph.delete_edges(edges_to_remove)\n",
    "\n",
    "    # print(f\"Was: {G.ecount()}, Now: {result_graph.ecount()} (edges). It is {(G.ecount() - result_graph.ecount()) / G.ecount() * 100:.2f}% of the original number.\")\n",
    "    return result_graph"
   ]
  },
  {
   "cell_type": "code",
   "execution_count": null,
   "id": "300cf5b5",
   "metadata": {},
   "outputs": [
    {
     "name": "stderr",
     "output_type": "stream",
     "text": [
      "  0%|          | 0/8 [00:00<?, ?it/s]"
     ]
    },
    {
     "name": "stderr",
     "output_type": "stream",
     "text": [
      " 12%|█▎        | 1/8 [00:23<02:43, 23.29s/it]\n"
     ]
    },
    {
     "ename": "KeyboardInterrupt",
     "evalue": "",
     "output_type": "error",
     "traceback": [
      "\u001b[31m---------------------------------------------------------------------------\u001b[39m",
      "\u001b[31mKeyboardInterrupt\u001b[39m                         Traceback (most recent call last)",
      "\u001b[36mCell\u001b[39m\u001b[36m \u001b[39m\u001b[32mIn[3]\u001b[39m\u001b[32m, line 24\u001b[39m\n\u001b[32m     21\u001b[39m G = read_dimacs_graph(filename)\n\u001b[32m     23\u001b[39m \u001b[38;5;28;01mfor\u001b[39;00m percent \u001b[38;5;129;01min\u001b[39;00m PERCENTS:\n\u001b[32m---> \u001b[39m\u001b[32m24\u001b[39m     G2 = \u001b[43mremove_edges\u001b[49m\u001b[43m(\u001b[49m\u001b[43mG\u001b[49m\u001b[43m,\u001b[49m\u001b[43m \u001b[49m\u001b[43mpercent\u001b[49m\u001b[43m)\u001b[49m\n\u001b[32m     26\u001b[39m     \u001b[38;5;28;01massert\u001b[39;00m \u001b[38;5;28mlen\u001b[39m(\u001b[38;5;28mlist\u001b[39m(G2.connected_components(mode=\u001b[33m\"\u001b[39m\u001b[33mstrong\u001b[39m\u001b[33m\"\u001b[39m))) == \u001b[32m1\u001b[39m\n\u001b[32m     28\u001b[39m     new_name = (\n\u001b[32m     29\u001b[39m         os.path.splitext(os.path.basename(filename))[\u001b[32m0\u001b[39m]\n\u001b[32m     30\u001b[39m         + \u001b[33mf\u001b[39m\u001b[33m\"\u001b[39m\u001b[33m.perc_\u001b[39m\u001b[38;5;132;01m{\u001b[39;00m\u001b[38;5;28mint\u001b[39m(percent\u001b[38;5;250m \u001b[39m*\u001b[38;5;250m \u001b[39m\u001b[32m100\u001b[39m)\u001b[38;5;132;01m}\u001b[39;00m\u001b[33m.gr\u001b[39m\u001b[33m\"\u001b[39m\n\u001b[32m     31\u001b[39m     )\n",
      "\u001b[36mCell\u001b[39m\u001b[36m \u001b[39m\u001b[32mIn[2]\u001b[39m\u001b[32m, line 7\u001b[39m, in \u001b[36mremove_edges\u001b[39m\u001b[34m(G, remove_percent)\u001b[39m\n\u001b[32m      4\u001b[39m remove_edges_count = \u001b[38;5;28mint\u001b[39m(G.ecount() * remove_percent)\n\u001b[32m      5\u001b[39m \u001b[38;5;66;03m# print(f\"Will be removed: {remove_edges_count} edges.\")\u001b[39;00m\n\u001b[32m----> \u001b[39m\u001b[32m7\u001b[39m h_edges = \u001b[38;5;28;43mlist\u001b[39;49m\u001b[43m(\u001b[49m\u001b[43mG\u001b[49m\u001b[43m.\u001b[49m\u001b[43mes\u001b[49m\u001b[43m)\u001b[49m\n\u001b[32m      9\u001b[39m bridge_ids = \u001b[38;5;28mset\u001b[39m(G.bridges())\n\u001b[32m     10\u001b[39m sorted_edges = [\n\u001b[32m     11\u001b[39m (e.source, e.target, e[\u001b[33m\"\u001b[39m\u001b[33mweight\u001b[39m\u001b[33m\"\u001b[39m] \u001b[38;5;28;01mif\u001b[39;00m \u001b[33m\"\u001b[39m\u001b[33mweight\u001b[39m\u001b[33m\"\u001b[39m \u001b[38;5;129;01min\u001b[39;00m e.attributes() \u001b[38;5;28;01melse\u001b[39;00m \u001b[32m1\u001b[39m)\n\u001b[32m     12\u001b[39m \u001b[38;5;28;01mfor\u001b[39;00m e \u001b[38;5;129;01min\u001b[39;00m h_edges\n\u001b[32m     13\u001b[39m \u001b[38;5;28;01mif\u001b[39;00m e.index \u001b[38;5;129;01mnot\u001b[39;00m \u001b[38;5;129;01min\u001b[39;00m bridge_ids\n\u001b[32m     14\u001b[39m ]\n",
      "\u001b[31mKeyboardInterrupt\u001b[39m: "
     ]
    }
   ],
   "source": [
    "def calc_density(G: ig.Graph):\n",
    "    return (2 * G.ecount()) / (G.vcount() * (G.vcount() - 1))\n",
    "\n",
    "\n",
    "# Experiment 1\n",
    "exp1_dataset = {\n",
    "    \"San Francisco Bay Area\": \"USA-road-d.BAY.gr\",\n",
    "    \"California and Nevada\": \"USA-road-d.CAL.gr\",\n",
    "    \"Colorado\": \"USA-road-d.COL.gr\",\n",
    "    \"Florida\": \"USA-road-d.FLA.gr\",\n",
    "    \"Great Lakes\": \"USA-road-d.LKS.gr\",\n",
    "    \"Northeast USA\": \"USA-road-d.NE.gr\",\n",
    "    \"Northwest USA\": \"USA-road-d.NW.gr\",\n",
    "    \"New York City\": \"USA-road-d.NY.gr\",\n",
    "}\n",
    "\n",
    "# 5%, 10%, 20%, 30%, 40%, 50%\n",
    "PERCENTS = [0.05, 0.1, 0.2, 0.3, 0.4, 0.5]\n",
    "\n",
    "for name, filename in tqdm.tqdm(exp1_dataset.items()):\n",
    "    G = read_dimacs_graph(filename)\n",
    "\n",
    "    for percent in PERCENTS:\n",
    "        G2 = remove_edges(G, percent)\n",
    "\n",
    "        assert len(list(G2.connected_components(mode=\"strong\"))) == 1\n",
    "\n",
    "        new_name = (\n",
    "            os.path.splitext(os.path.basename(filename))[0]\n",
    "            + f\".perc_{int(percent * 100)}.gr\"\n",
    "        )\n",
    "\n",
    "        save_dimacs_graph(\n",
    "            G2,\n",
    "            f\"dataset/{new_name}\",\n",
    "            comment=f\"Name: {name}, Filename: {filename} Density: {calc_density(G2)}, Start density: {calc_density(G)}\",\n",
    "        )\n"
   ]
  }
 ],
 "metadata": {
  "kernelspec": {
   "display_name": ".venv",
   "language": "python",
   "name": "python3"
  },
  "language_info": {
   "codemirror_mode": {
    "name": "ipython",
    "version": 3
   },
   "file_extension": ".py",
   "mimetype": "text/x-python",
   "name": "python",
   "nbconvert_exporter": "python",
   "pygments_lexer": "ipython3",
   "version": "3.12.3"
  }
 },
 "nbformat": 4,
 "nbformat_minor": 5
}
