{
 "cells": [
  {
   "cell_type": "code",
   "execution_count": 1,
   "id": "897887fa",
   "metadata": {},
   "outputs": [],
   "source": [
    "import networkx as nx\n",
    "import matplotlib.pyplot as plt\n",
    "from gklearn.kernels.spKernel import spkernel\n",
    "import numpy as np\n",
    "import tqdm\n",
    "\n",
    "\n",
    "def read_graph(filename):\n",
    "    G = nx.Graph()\n",
    "    with open(filename, \"r\") as f:\n",
    "        for line in f:\n",
    "            if line.startswith(\"a\"):\n",
    "                _, u, v, w = line.strip().split()\n",
    "                G.add_edge(int(u), int(v), weight=int(w))\n",
    "    return G\n",
    "\n",
    "\n",
    "def plot_degree_distribution(G: nx.Graph, name=\"\"):\n",
    "    \"\"\"\n",
    "    Degree of a node in a network is the number of connections it has to other nodes\n",
    "    Degree distribution is the probability distribution of these degrees over the whole network.\n",
    "    \"\"\"\n",
    "    degrees = [G.degree(n) for n in G.nodes()]\n",
    "\n",
    "    plt.hist(\n",
    "        degrees,\n",
    "        bins=range(min(degrees), max(degrees) + 2),\n",
    "        align=\"left\",\n",
    "        edgecolor=\"black\",\n",
    "    )\n",
    "    plt.xlabel(\"Degree\")\n",
    "    plt.ylabel(\"Frequency\")\n",
    "    plt.title(f\"Degree Distribution - {name}\")\n",
    "    plt.show()\n",
    "\n",
    "\n",
    "def plot_weight_distribution(G: nx.Graph, name=\"\"):\n",
    "    weights = [d[\"weight\"] for _, _, d in G.edges(data=True)]\n",
    "\n",
    "    plt.hist(weights, bins=\"auto\", edgecolor=\"black\")\n",
    "    plt.xlabel(\"Edge Weight\")\n",
    "    plt.ylabel(\"Frequency\")\n",
    "    plt.xscale(\"log\")\n",
    "    plt.title(f\"Edge Weight Distribution - {name}\")\n",
    "    plt.grid(True)\n",
    "    plt.show()\n",
    "\n",
    "\n",
    "def info(G: nx.Graph, name: str = \"\"):\n",
    "    V = G.number_of_nodes()\n",
    "    E = G.number_of_edges()\n",
    "    max_E = V * (V - 1) // 2\n",
    "    density = E / max_E if max_E > 0 else 0\n",
    "    components = nx.number_connected_components(G)\n",
    "\n",
    "    print(f\"Graph: {name}\")\n",
    "    print(f\"  Nodes (V): {V}\")\n",
    "    print(f\"  Edges (E): {E}\")\n",
    "    print(f\"  Max Edges (Complete Graph): {max_E}\")\n",
    "    print(f\"  Density: {density:.8f}\")\n",
    "    print(f\"  Connected Components: {components}\\n\")\n",
    "\n",
    "    return {\n",
    "        \"Graph\": name,\n",
    "        \"Nodes\": V,\n",
    "        \"Edges\": E,\n",
    "        \"Max Edges\": max_E,\n",
    "        \"Density\": density,\n",
    "        \"Connected Components\": components,\n",
    "    }\n"
   ]
  },
  {
   "cell_type": "code",
   "execution_count": 2,
   "id": "b4d4a0c0",
   "metadata": {},
   "outputs": [],
   "source": [
    "DISTANCE_GRAPH_FILES = {\n",
    "    \"Great Lakes\": \"USA-road-d.LKS.gr\",\n",
    "    \"California and Nevada\": \"USA-road-d.CAL.gr\",\n",
    "    \"Northeast USA\": \"USA-road-d.NE.gr\",\n",
    "    \"Northwest USA\": \"USA-road-d.NW.gr\",\n",
    "    \"Florida\": \"USA-road-d.FLA.gr\",\n",
    "    \"Colorado\": \"USA-road-d.COL.gr\",\n",
    "    \"San Francisco Bay Area\": \"USA-road-d.BAY.gr\",\n",
    "    \"New York City\": \"USA-road-d.NY.gr\",\n",
    "}\n",
    "TIME_GRAPH_FILES = {\n",
    "    \"Great Lakes\": \"USA-road-t.LKS.gr\",\n",
    "    \"California and Nevada\": \"USA-road-t.CAL.gr\",\n",
    "    \"Northeast USA\": \"USA-road-t.NE.gr\",\n",
    "    \"Northwest USA\": \"USA-road-t.NW.gr\",\n",
    "    \"Florida\": \"USA-road-t.FLA.gr\",\n",
    "    \"Colorado\": \"USA-road-t.COL.gr\",\n",
    "    \"San Francisco Bay Area\": \"USA-road-t.BAY.gr\",\n",
    "    \"New York City\": \"USA-road-t.NY.gr\",\n",
    "}"
   ]
  },
  {
   "cell_type": "code",
   "execution_count": null,
   "id": "a23e83ca",
   "metadata": {},
   "outputs": [
    {
     "ename": "",
     "evalue": "",
     "output_type": "error",
     "traceback": [
      "\u001b[1;31mThe Kernel crashed while executing code in the current cell or a previous cell. \n",
      "\u001b[1;31mPlease review the code in the cell(s) to identify a possible cause of the failure. \n",
      "\u001b[1;31mClick <a href='https://aka.ms/vscodeJupyterKernelCrash'>here</a> for more info. \n",
      "\u001b[1;31mView Jupyter <a href='command:jupyter.viewOutput'>log</a> for further details."
     ]
    }
   ],
   "source": [
    "def analyze_graphs(graph_files):\n",
    "    density = []\n",
    "    for name, filename in graph_files.items():\n",
    "        G = read_graph(filename)\n",
    "\n",
    "        res = info(G, name=name)\n",
    "        density.append(res[\"Density\"])\n",
    "\n",
    "        plot_weight_distribution(G, name)\n",
    "\n",
    "    print(f\"MEAN DENSITY: {np.mean(np.array(density))}.\")\n",
    "\n",
    "\n",
    "def compare_graphs(graph_files):\n",
    "    \"\"\"Example graph comparing using graph kernel.\"\"\"\n",
    "    graphs = []\n",
    "    for _, filename in tqdm.tqdm(graph_files.items()):\n",
    "        G = read_graph(filename)\n",
    "        graphs.append(G)\n",
    "\n",
    "    return spkernel(graphs, n_jobs=8)"
   ]
  },
  {
   "cell_type": "code",
   "execution_count": null,
   "id": "74e8cef9",
   "metadata": {},
   "outputs": [
    {
     "name": "stderr",
     "output_type": "stream",
     "text": [
      "100%|██████████| 2/2 [00:23<00:00, 11.81s/it]\n"
     ]
    },
    {
     "name": "stdout",
     "output_type": "stream",
     "text": [
      "\n",
      " None edge weight specified. Set all weight to 1.\n",
      "\n",
      "getting sp graphs: 0it [00:00, ?it/s]"
     ]
    }
   ],
   "source": [
    "# Just for example\n",
    "\n",
    "kernel = compare_graphs(\n",
    "    {\"Great Lakes\": \"USA-road-d.LKS.gr\", \"California and Nevada\": \"USA-road-d.CAL.gr\"}\n",
    ")"
   ]
  },
  {
   "cell_type": "code",
   "execution_count": null,
   "id": "1317a4ff",
   "metadata": {},
   "outputs": [],
   "source": [
    "print(kernel[0])"
   ]
  },
  {
   "cell_type": "code",
   "execution_count": null,
   "id": "cdd8630f",
   "metadata": {},
   "outputs": [],
   "source": [
    "print(\"DISTANCE GRAPHS\")\n",
    "analyze_graphs(DISTANCE_GRAPH_FILES)\n",
    "\n",
    "print(\"TIME GRAPHS\")\n",
    "analyze_graphs(TIME_GRAPH_FILES)"
   ]
  }
 ],
 "metadata": {
  "kernelspec": {
   "display_name": ".venv",
   "language": "python",
   "name": "python3"
  },
  "language_info": {
   "codemirror_mode": {
    "name": "ipython",
    "version": 3
   },
   "file_extension": ".py",
   "mimetype": "text/x-python",
   "name": "python",
   "nbconvert_exporter": "python",
   "pygments_lexer": "ipython3",
   "version": "3.12.3"
  }
 },
 "nbformat": 4,
 "nbformat_minor": 5
}
